{
 "cells": [
  {
   "cell_type": "code",
   "execution_count": 2,
   "metadata": {},
   "outputs": [],
   "source": [
    "import pandas as pd"
   ]
  },
  {
   "cell_type": "code",
   "execution_count": 3,
   "metadata": {},
   "outputs": [],
   "source": [
    "df = pd.read_json(path_or_buf=\"case.json\")"
   ]
  },
  {
   "cell_type": "code",
   "execution_count": 4,
   "metadata": {},
   "outputs": [
    {
     "data": {
      "text/html": [
       "<div>\n",
       "<style scoped>\n",
       "    .dataframe tbody tr th:only-of-type {\n",
       "        vertical-align: middle;\n",
       "    }\n",
       "\n",
       "    .dataframe tbody tr th {\n",
       "        vertical-align: top;\n",
       "    }\n",
       "\n",
       "    .dataframe thead th {\n",
       "        text-align: right;\n",
       "    }\n",
       "</style>\n",
       "<table border=\"1\" class=\"dataframe\">\n",
       "  <thead>\n",
       "    <tr style=\"text-align: right;\">\n",
       "      <th></th>\n",
       "      <th>EnqueuedTimeUtc</th>\n",
       "      <th>EventName</th>\n",
       "      <th>Payload</th>\n",
       "    </tr>\n",
       "  </thead>\n",
       "  <tbody>\n",
       "    <tr>\n",
       "      <th>5</th>\n",
       "      <td>2021-08-18 11:44:00 UTC</td>\n",
       "      <td>DynamicPrice_Result</td>\n",
       "      <td>{\"provider\":\"ApplyDynamicPricePerOption\",\"offe...</td>\n",
       "    </tr>\n",
       "    <tr>\n",
       "      <th>18</th>\n",
       "      <td>2021-09-05 09:03:52 UTC</td>\n",
       "      <td>DynamicPrice_Result</td>\n",
       "      <td>{\"provider\":\"ApplyDynamicPriceRange\",\"offerId\"...</td>\n",
       "    </tr>\n",
       "    <tr>\n",
       "      <th>23</th>\n",
       "      <td>2021-09-05 09:03:41 UTC</td>\n",
       "      <td>DynamicPrice_Result</td>\n",
       "      <td>{\"provider\":\"ApplyDynamicPriceRange\",\"offerId\"...</td>\n",
       "    </tr>\n",
       "    <tr>\n",
       "      <th>28</th>\n",
       "      <td>2021-09-05 09:02:21 UTC</td>\n",
       "      <td>DynamicPrice_Result</td>\n",
       "      <td>{\"provider\":\"ApplyDynamicPriceRange\",\"offerId\"...</td>\n",
       "    </tr>\n",
       "    <tr>\n",
       "      <th>4</th>\n",
       "      <td>2021-09-05 08:03:28 UTC</td>\n",
       "      <td>DynamicPrice_Result</td>\n",
       "      <td>{\"provider\":\"ApplyDynamicPriceRange\",\"offerId\"...</td>\n",
       "    </tr>\n",
       "    <tr>\n",
       "      <th>25</th>\n",
       "      <td>2021-09-05 09:02:05 UTC</td>\n",
       "      <td>DynamicPrice_Result</td>\n",
       "      <td>{\"provider\":\"ApplyDynamicPriceRange\",\"offerId\"...</td>\n",
       "    </tr>\n",
       "    <tr>\n",
       "      <th>9</th>\n",
       "      <td>2021-09-05 09:18:04 UTC</td>\n",
       "      <td>DynamicPrice_Result</td>\n",
       "      <td>{\"provider\":\"ApplyDynamicPriceRange\",\"offerId\"...</td>\n",
       "    </tr>\n",
       "    <tr>\n",
       "      <th>6</th>\n",
       "      <td>2021-09-05 08:03:40 UTC</td>\n",
       "      <td>DynamicPrice_Result</td>\n",
       "      <td>{\"provider\":\"ApplyDynamicPriceRange\",\"offerId\"...</td>\n",
       "    </tr>\n",
       "    <tr>\n",
       "      <th>33</th>\n",
       "      <td>2021-09-05 09:02:41 UTC</td>\n",
       "      <td>DynamicPrice_Result</td>\n",
       "      <td>{\"provider\":\"ApplyDynamicPriceRange\",\"offerId\"...</td>\n",
       "    </tr>\n",
       "    <tr>\n",
       "      <th>20</th>\n",
       "      <td>2021-08-18 11:43:57 UTC</td>\n",
       "      <td>DynamicPrice_Result</td>\n",
       "      <td>{\"provider\":\"ApplyDynamicPricePerOption\",\"offe...</td>\n",
       "    </tr>\n",
       "    <tr>\n",
       "      <th>21</th>\n",
       "      <td>2021-09-05 05:02:49 UTC</td>\n",
       "      <td>DynamicPrice_Result</td>\n",
       "      <td>{\"provider\":\"ApplyDynamicPriceRange\",\"offerId\"...</td>\n",
       "    </tr>\n",
       "    <tr>\n",
       "      <th>2</th>\n",
       "      <td>2021-09-05 09:04:04 UTC</td>\n",
       "      <td>DynamicPrice_Result</td>\n",
       "      <td>{\"provider\":\"ApplyDynamicPriceRange\",\"offerId\"...</td>\n",
       "    </tr>\n",
       "  </tbody>\n",
       "</table>\n",
       "</div>"
      ],
      "text/plain": [
       "            EnqueuedTimeUtc            EventName  \\\n",
       "5   2021-08-18 11:44:00 UTC  DynamicPrice_Result   \n",
       "18  2021-09-05 09:03:52 UTC  DynamicPrice_Result   \n",
       "23  2021-09-05 09:03:41 UTC  DynamicPrice_Result   \n",
       "28  2021-09-05 09:02:21 UTC  DynamicPrice_Result   \n",
       "4   2021-09-05 08:03:28 UTC  DynamicPrice_Result   \n",
       "25  2021-09-05 09:02:05 UTC  DynamicPrice_Result   \n",
       "9   2021-09-05 09:18:04 UTC  DynamicPrice_Result   \n",
       "6   2021-09-05 08:03:40 UTC  DynamicPrice_Result   \n",
       "33  2021-09-05 09:02:41 UTC  DynamicPrice_Result   \n",
       "20  2021-08-18 11:43:57 UTC  DynamicPrice_Result   \n",
       "21  2021-09-05 05:02:49 UTC  DynamicPrice_Result   \n",
       "2   2021-09-05 09:04:04 UTC  DynamicPrice_Result   \n",
       "\n",
       "                                              Payload  \n",
       "5   {\"provider\":\"ApplyDynamicPricePerOption\",\"offe...  \n",
       "18  {\"provider\":\"ApplyDynamicPriceRange\",\"offerId\"...  \n",
       "23  {\"provider\":\"ApplyDynamicPriceRange\",\"offerId\"...  \n",
       "28  {\"provider\":\"ApplyDynamicPriceRange\",\"offerId\"...  \n",
       "4   {\"provider\":\"ApplyDynamicPriceRange\",\"offerId\"...  \n",
       "25  {\"provider\":\"ApplyDynamicPriceRange\",\"offerId\"...  \n",
       "9   {\"provider\":\"ApplyDynamicPriceRange\",\"offerId\"...  \n",
       "6   {\"provider\":\"ApplyDynamicPriceRange\",\"offerId\"...  \n",
       "33  {\"provider\":\"ApplyDynamicPriceRange\",\"offerId\"...  \n",
       "20  {\"provider\":\"ApplyDynamicPricePerOption\",\"offe...  \n",
       "21  {\"provider\":\"ApplyDynamicPriceRange\",\"offerId\"...  \n",
       "2   {\"provider\":\"ApplyDynamicPriceRange\",\"offerId\"...  "
      ]
     },
     "execution_count": 4,
     "metadata": {},
     "output_type": "execute_result"
    }
   ],
   "source": [
    "df.sample(n=12, random_state=55)"
   ]
  },
  {
   "cell_type": "code",
   "execution_count": 5,
   "metadata": {},
   "outputs": [
    {
     "data": {
      "text/plain": [
       "(37, 3)"
      ]
     },
     "execution_count": 5,
     "metadata": {},
     "output_type": "execute_result"
    }
   ],
   "source": [
    "df.shape"
   ]
  }
 ],
 "metadata": {
  "kernelspec": {
   "display_name": "base",
   "language": "python",
   "name": "python3"
  },
  "language_info": {
   "codemirror_mode": {
    "name": "ipython",
    "version": 3
   },
   "file_extension": ".py",
   "mimetype": "text/x-python",
   "name": "python",
   "nbconvert_exporter": "python",
   "pygments_lexer": "ipython3",
   "version": "3.11.5"
  }
 },
 "nbformat": 4,
 "nbformat_minor": 2
}
