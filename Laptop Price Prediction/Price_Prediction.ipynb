{
 "cells": [
  {
   "cell_type": "markdown",
   "metadata": {},
   "source": [
    "## Assignment\n",
    "Prepare a model in Jupyter Notebook using Python. Only use the training data for training the model and check the model's performance on unseen data using the test dataset to make sure it does not overfit.\n",
    "Ensure that the notebook reflects your thought process. It’s better to show all the approaches, not only the final one (e.g. if you tested several models, you can show all of them). The path to obtaining the final model should be clearly shown.\n"
   ]
  },
  {
   "cell_type": "code",
   "execution_count": 90,
   "metadata": {},
   "outputs": [],
   "source": [
    "import pandas as pd\n",
    "import os\n",
    "import numpy as np"
   ]
  },
  {
   "cell_type": "code",
   "execution_count": 91,
   "metadata": {},
   "outputs": [
    {
     "data": {
      "text/html": [
       "<div>\n",
       "<style scoped>\n",
       "    .dataframe tbody tr th:only-of-type {\n",
       "        vertical-align: middle;\n",
       "    }\n",
       "\n",
       "    .dataframe tbody tr th {\n",
       "        vertical-align: top;\n",
       "    }\n",
       "\n",
       "    .dataframe thead th {\n",
       "        text-align: right;\n",
       "    }\n",
       "</style>\n",
       "<table border=\"1\" class=\"dataframe\">\n",
       "  <thead>\n",
       "    <tr style=\"text-align: right;\">\n",
       "      <th></th>\n",
       "      <th>graphic card type</th>\n",
       "      <th>communications</th>\n",
       "      <th>resolution (px)</th>\n",
       "      <th>CPU cores</th>\n",
       "      <th>RAM size</th>\n",
       "      <th>operating system</th>\n",
       "      <th>drive type</th>\n",
       "      <th>input devices</th>\n",
       "      <th>multimedia</th>\n",
       "      <th>RAM type</th>\n",
       "      <th>CPU clock speed (GHz)</th>\n",
       "      <th>CPU model</th>\n",
       "      <th>state</th>\n",
       "      <th>drive memory size (GB)</th>\n",
       "      <th>warranty</th>\n",
       "      <th>screen size</th>\n",
       "      <th>buynow_price</th>\n",
       "    </tr>\n",
       "  </thead>\n",
       "  <tbody>\n",
       "    <tr>\n",
       "      <th>7233</th>\n",
       "      <td>dedicated graphics</td>\n",
       "      <td>[bluetooth, lan 10/100/1000 mbps]</td>\n",
       "      <td>1920 x 1080</td>\n",
       "      <td>4</td>\n",
       "      <td>32 gb</td>\n",
       "      <td>[no system]</td>\n",
       "      <td>ssd + hdd</td>\n",
       "      <td>[keyboard, touchpad, illuminated keyboard, num...</td>\n",
       "      <td>[SD card reader, camera, speakers, microphone]</td>\n",
       "      <td>ddr4</td>\n",
       "      <td>2.6</td>\n",
       "      <td>intel core i7</td>\n",
       "      <td>new</td>\n",
       "      <td>1250.0</td>\n",
       "      <td>producer warranty</td>\n",
       "      <td>17\" - 17.9\"</td>\n",
       "      <td>4999.0</td>\n",
       "    </tr>\n",
       "    <tr>\n",
       "      <th>5845</th>\n",
       "      <td>dedicated graphics</td>\n",
       "      <td>[wi-fi, bluetooth, lan 10/100 mbps]</td>\n",
       "      <td>1366 x 768</td>\n",
       "      <td>4</td>\n",
       "      <td>8 gb</td>\n",
       "      <td>[windows 10 home]</td>\n",
       "      <td>ssd</td>\n",
       "      <td>[keyboard, touchpad, numeric keyboard]</td>\n",
       "      <td>[SD card reader, camera, speakers, microphone]</td>\n",
       "      <td>ddr3</td>\n",
       "      <td>2.4</td>\n",
       "      <td>intel core i7</td>\n",
       "      <td>new</td>\n",
       "      <td>256.0</td>\n",
       "      <td>seller warranty</td>\n",
       "      <td>15\" - 15.9\"</td>\n",
       "      <td>2649.0</td>\n",
       "    </tr>\n",
       "    <tr>\n",
       "      <th>10303</th>\n",
       "      <td>None</td>\n",
       "      <td>[bluetooth, nfc (near field communication)]</td>\n",
       "      <td>1920 x 1080</td>\n",
       "      <td>2</td>\n",
       "      <td>8 gb</td>\n",
       "      <td>[windows 10 home]</td>\n",
       "      <td>hdd</td>\n",
       "      <td>None</td>\n",
       "      <td>[SD card reader]</td>\n",
       "      <td>ddr4</td>\n",
       "      <td>1.6</td>\n",
       "      <td>intel core i7</td>\n",
       "      <td>new</td>\n",
       "      <td>1000.0</td>\n",
       "      <td>producer warranty</td>\n",
       "      <td>15\" - 15.9\"</td>\n",
       "      <td>3399.0</td>\n",
       "    </tr>\n",
       "    <tr>\n",
       "      <th>10423</th>\n",
       "      <td>None</td>\n",
       "      <td>None</td>\n",
       "      <td>None</td>\n",
       "      <td>2</td>\n",
       "      <td>None</td>\n",
       "      <td>None</td>\n",
       "      <td>None</td>\n",
       "      <td>None</td>\n",
       "      <td>None</td>\n",
       "      <td>None</td>\n",
       "      <td>NaN</td>\n",
       "      <td>None</td>\n",
       "      <td>new</td>\n",
       "      <td>NaN</td>\n",
       "      <td>producer warranty</td>\n",
       "      <td>None</td>\n",
       "      <td>1599.0</td>\n",
       "    </tr>\n",
       "    <tr>\n",
       "      <th>5897</th>\n",
       "      <td>integrated graphics</td>\n",
       "      <td>[wi-fi, bluetooth]</td>\n",
       "      <td>2560 x 1440</td>\n",
       "      <td>4</td>\n",
       "      <td>8 gb</td>\n",
       "      <td>[windows 10 home]</td>\n",
       "      <td>ssd</td>\n",
       "      <td>[keyboard, touchpad, illuminated keyboard]</td>\n",
       "      <td>[SD card reader, camera, speakers, microphone]</td>\n",
       "      <td>ddr4</td>\n",
       "      <td>1.2</td>\n",
       "      <td>other CPU</td>\n",
       "      <td>new</td>\n",
       "      <td>256.0</td>\n",
       "      <td>producer warranty</td>\n",
       "      <td>12\" - 12.9\"</td>\n",
       "      <td>4499.0</td>\n",
       "    </tr>\n",
       "    <tr>\n",
       "      <th>4870</th>\n",
       "      <td>integrated graphics</td>\n",
       "      <td>[wi-fi, bluetooth, lan 10/100 mbps]</td>\n",
       "      <td>1366 x 768</td>\n",
       "      <td>2</td>\n",
       "      <td>8 gb</td>\n",
       "      <td>[windows 10 home]</td>\n",
       "      <td>hdd</td>\n",
       "      <td>[keyboard, touchpad, numeric keyboard]</td>\n",
       "      <td>[SD card reader, camera, speakers, microphone]</td>\n",
       "      <td>ddr4</td>\n",
       "      <td>2.0</td>\n",
       "      <td>intel core i3</td>\n",
       "      <td>new</td>\n",
       "      <td>1000.0</td>\n",
       "      <td>producer warranty</td>\n",
       "      <td>15\" - 15.9\"</td>\n",
       "      <td>2099.0</td>\n",
       "    </tr>\n",
       "    <tr>\n",
       "      <th>2498</th>\n",
       "      <td>dedicated graphics</td>\n",
       "      <td>[wi-fi, bluetooth, lan 10/100/1000 mbps]</td>\n",
       "      <td>1920 x 1080</td>\n",
       "      <td>4</td>\n",
       "      <td>8 gb</td>\n",
       "      <td>[windows 8.1 home 64-bit, other]</td>\n",
       "      <td>hdd</td>\n",
       "      <td>[keyboard, touchpad, illuminated keyboard, num...</td>\n",
       "      <td>[SD card reader, camera, speakers, microphone]</td>\n",
       "      <td>ddr3</td>\n",
       "      <td>2.4</td>\n",
       "      <td>intel core i7</td>\n",
       "      <td>new</td>\n",
       "      <td>1000.0</td>\n",
       "      <td>producer warranty</td>\n",
       "      <td>17\" - 17.9\"</td>\n",
       "      <td>2699.0</td>\n",
       "    </tr>\n",
       "    <tr>\n",
       "      <th>6220</th>\n",
       "      <td>dedicated graphics</td>\n",
       "      <td>[wi-fi, bluetooth, lan 10/100/1000 mbps]</td>\n",
       "      <td>1920 x 1080</td>\n",
       "      <td>4</td>\n",
       "      <td>8 gb</td>\n",
       "      <td>[no system]</td>\n",
       "      <td>ssd</td>\n",
       "      <td>[keyboard, touchpad, illuminated keyboard, num...</td>\n",
       "      <td>[SD card reader, camera, speakers, microphone]</td>\n",
       "      <td>ddr4</td>\n",
       "      <td>2.5</td>\n",
       "      <td>intel core i5</td>\n",
       "      <td>new</td>\n",
       "      <td>256.0</td>\n",
       "      <td>producer warranty</td>\n",
       "      <td>15\" - 15.9\"</td>\n",
       "      <td>3199.0</td>\n",
       "    </tr>\n",
       "    <tr>\n",
       "      <th>10594</th>\n",
       "      <td>integrated graphics</td>\n",
       "      <td>[nfc (near field communication), gps]</td>\n",
       "      <td>1920 x 1080</td>\n",
       "      <td>2</td>\n",
       "      <td>8 gb</td>\n",
       "      <td>[windows 10 professional]</td>\n",
       "      <td>None</td>\n",
       "      <td>[touchpad]</td>\n",
       "      <td>[SD card reader]</td>\n",
       "      <td>ddr4</td>\n",
       "      <td>2.5</td>\n",
       "      <td>intel core i5</td>\n",
       "      <td>new</td>\n",
       "      <td>500.0</td>\n",
       "      <td>producer warranty</td>\n",
       "      <td>15\" - 15.9\"</td>\n",
       "      <td>2749.0</td>\n",
       "    </tr>\n",
       "    <tr>\n",
       "      <th>11640</th>\n",
       "      <td>integrated graphics</td>\n",
       "      <td>[wi-fi 802.11 b/g/n/ac, bluetooth, lan 10/100/...</td>\n",
       "      <td>1920 x 1080</td>\n",
       "      <td>2</td>\n",
       "      <td>8 gb</td>\n",
       "      <td>[windows 10 professional]</td>\n",
       "      <td>ssd</td>\n",
       "      <td>[keyboard, touchpad, numeric keyboard]</td>\n",
       "      <td>[SD card reader, camera, speakers, microphone]</td>\n",
       "      <td>ddr4</td>\n",
       "      <td>2.5</td>\n",
       "      <td>intel core i5</td>\n",
       "      <td>new</td>\n",
       "      <td>256.0</td>\n",
       "      <td>producer warranty</td>\n",
       "      <td>15\" - 15.9\"</td>\n",
       "      <td>3199.0</td>\n",
       "    </tr>\n",
       "  </tbody>\n",
       "</table>\n",
       "</div>"
      ],
      "text/plain": [
       "         graphic card type                                     communications  \\\n",
       "7233    dedicated graphics                  [bluetooth, lan 10/100/1000 mbps]   \n",
       "5845    dedicated graphics                [wi-fi, bluetooth, lan 10/100 mbps]   \n",
       "10303                 None        [bluetooth, nfc (near field communication)]   \n",
       "10423                 None                                               None   \n",
       "5897   integrated graphics                                 [wi-fi, bluetooth]   \n",
       "4870   integrated graphics                [wi-fi, bluetooth, lan 10/100 mbps]   \n",
       "2498    dedicated graphics           [wi-fi, bluetooth, lan 10/100/1000 mbps]   \n",
       "6220    dedicated graphics           [wi-fi, bluetooth, lan 10/100/1000 mbps]   \n",
       "10594  integrated graphics              [nfc (near field communication), gps]   \n",
       "11640  integrated graphics  [wi-fi 802.11 b/g/n/ac, bluetooth, lan 10/100/...   \n",
       "\n",
       "      resolution (px) CPU cores RAM size                  operating system  \\\n",
       "7233      1920 x 1080         4    32 gb                       [no system]   \n",
       "5845       1366 x 768         4     8 gb                 [windows 10 home]   \n",
       "10303     1920 x 1080         2     8 gb                 [windows 10 home]   \n",
       "10423            None         2     None                              None   \n",
       "5897      2560 x 1440         4     8 gb                 [windows 10 home]   \n",
       "4870       1366 x 768         2     8 gb                 [windows 10 home]   \n",
       "2498      1920 x 1080         4     8 gb  [windows 8.1 home 64-bit, other]   \n",
       "6220      1920 x 1080         4     8 gb                       [no system]   \n",
       "10594     1920 x 1080         2     8 gb         [windows 10 professional]   \n",
       "11640     1920 x 1080         2     8 gb         [windows 10 professional]   \n",
       "\n",
       "      drive type                                      input devices  \\\n",
       "7233   ssd + hdd  [keyboard, touchpad, illuminated keyboard, num...   \n",
       "5845         ssd             [keyboard, touchpad, numeric keyboard]   \n",
       "10303        hdd                                               None   \n",
       "10423       None                                               None   \n",
       "5897         ssd         [keyboard, touchpad, illuminated keyboard]   \n",
       "4870         hdd             [keyboard, touchpad, numeric keyboard]   \n",
       "2498         hdd  [keyboard, touchpad, illuminated keyboard, num...   \n",
       "6220         ssd  [keyboard, touchpad, illuminated keyboard, num...   \n",
       "10594       None                                         [touchpad]   \n",
       "11640        ssd             [keyboard, touchpad, numeric keyboard]   \n",
       "\n",
       "                                           multimedia RAM type  \\\n",
       "7233   [SD card reader, camera, speakers, microphone]     ddr4   \n",
       "5845   [SD card reader, camera, speakers, microphone]     ddr3   \n",
       "10303                                [SD card reader]     ddr4   \n",
       "10423                                            None     None   \n",
       "5897   [SD card reader, camera, speakers, microphone]     ddr4   \n",
       "4870   [SD card reader, camera, speakers, microphone]     ddr4   \n",
       "2498   [SD card reader, camera, speakers, microphone]     ddr3   \n",
       "6220   [SD card reader, camera, speakers, microphone]     ddr4   \n",
       "10594                                [SD card reader]     ddr4   \n",
       "11640  [SD card reader, camera, speakers, microphone]     ddr4   \n",
       "\n",
       "       CPU clock speed (GHz)      CPU model state  drive memory size (GB)  \\\n",
       "7233                     2.6  intel core i7   new                  1250.0   \n",
       "5845                     2.4  intel core i7   new                   256.0   \n",
       "10303                    1.6  intel core i7   new                  1000.0   \n",
       "10423                    NaN           None   new                     NaN   \n",
       "5897                     1.2      other CPU   new                   256.0   \n",
       "4870                     2.0  intel core i3   new                  1000.0   \n",
       "2498                     2.4  intel core i7   new                  1000.0   \n",
       "6220                     2.5  intel core i5   new                   256.0   \n",
       "10594                    2.5  intel core i5   new                   500.0   \n",
       "11640                    2.5  intel core i5   new                   256.0   \n",
       "\n",
       "                warranty  screen size  buynow_price  \n",
       "7233   producer warranty  17\" - 17.9\"        4999.0  \n",
       "5845     seller warranty  15\" - 15.9\"        2649.0  \n",
       "10303  producer warranty  15\" - 15.9\"        3399.0  \n",
       "10423  producer warranty         None        1599.0  \n",
       "5897   producer warranty  12\" - 12.9\"        4499.0  \n",
       "4870   producer warranty  15\" - 15.9\"        2099.0  \n",
       "2498   producer warranty  17\" - 17.9\"        2699.0  \n",
       "6220   producer warranty  15\" - 15.9\"        3199.0  \n",
       "10594  producer warranty  15\" - 15.9\"        2749.0  \n",
       "11640  producer warranty  15\" - 15.9\"        3199.0  "
      ]
     },
     "execution_count": 91,
     "metadata": {},
     "output_type": "execute_result"
    }
   ],
   "source": [
    "train_df = pd.read_json(\"./train_dataset.json\", orient=\"columns\")\n",
    "test_df = pd.read_json(\"./test_dataset.json\", orient=\"columns\")\n",
    "val_df = pd.read_json(\"./val_dataset.json\", orient=\"columns\")\n",
    "\n",
    "df = pd.concat([train_df, val_df, test_df], axis=0)\n",
    "df.head(10)"
   ]
  },
  {
   "cell_type": "code",
   "execution_count": 92,
   "metadata": {},
   "outputs": [
    {
     "data": {
      "text/plain": [
       "Index(['graphic card type', 'communications', 'resolution (px)', 'CPU cores',\n",
       "       'RAM size', 'operating system', 'drive type', 'input devices',\n",
       "       'multimedia', 'RAM type', 'CPU clock speed (GHz)', 'CPU model', 'state',\n",
       "       'drive memory size (GB)', 'warranty', 'screen size', 'buynow_price'],\n",
       "      dtype='object')"
      ]
     },
     "execution_count": 92,
     "metadata": {},
     "output_type": "execute_result"
    }
   ],
   "source": [
    "df.columns"
   ]
  },
  {
   "cell_type": "code",
   "execution_count": 93,
   "metadata": {},
   "outputs": [
    {
     "data": {
      "text/plain": [
       "graphic card type          object\n",
       "communications             object\n",
       "resolution (px)            object\n",
       "CPU cores                  object\n",
       "RAM size                   object\n",
       "operating system           object\n",
       "drive type                 object\n",
       "input devices              object\n",
       "multimedia                 object\n",
       "RAM type                   object\n",
       "CPU clock speed (GHz)     float64\n",
       "CPU model                  object\n",
       "state                      object\n",
       "drive memory size (GB)    float64\n",
       "warranty                   object\n",
       "screen size                object\n",
       "buynow_price              float64\n",
       "dtype: object"
      ]
     },
     "execution_count": 93,
     "metadata": {},
     "output_type": "execute_result"
    }
   ],
   "source": [
    "df.dtypes"
   ]
  },
  {
   "cell_type": "code",
   "execution_count": 94,
   "metadata": {},
   "outputs": [
    {
     "data": {
      "text/plain": [
       "(7853, 17)"
      ]
     },
     "execution_count": 94,
     "metadata": {},
     "output_type": "execute_result"
    }
   ],
   "source": [
    "df.shape"
   ]
  },
  {
   "cell_type": "code",
   "execution_count": 95,
   "metadata": {},
   "outputs": [],
   "source": [
    "df = df.dropna()"
   ]
  },
  {
   "cell_type": "code",
   "execution_count": 96,
   "metadata": {},
   "outputs": [
    {
     "data": {
      "text/plain": [
       "(6109, 17)"
      ]
     },
     "execution_count": 96,
     "metadata": {},
     "output_type": "execute_result"
    }
   ],
   "source": [
    "df.shape"
   ]
  },
  {
   "cell_type": "code",
   "execution_count": 97,
   "metadata": {},
   "outputs": [],
   "source": [
    "def get_unique_values(column_name, dataframe):\n",
    "    # Splitting each comma-separated value into a new column\n",
    "    column_df = pd.DataFrame(dataframe[column_name].str.split(',').tolist())\n",
    "    \n",
    "    unique_values = []\n",
    "    for column in column_df.columns:\n",
    "        # Collecting unique non-null values\n",
    "        unique_values.extend(\n",
    "            value for value in column_df[column].unique()\n",
    "            if value not in unique_values and value is not None\n",
    "        )\n",
    "\n",
    "    return unique_values"
   ]
  },
  {
   "cell_type": "code",
   "execution_count": 98,
   "metadata": {},
   "outputs": [],
   "source": [
    "compact_cols = ['communications', 'input devices', 'multimedia']"
   ]
  },
  {
   "cell_type": "code",
   "execution_count": 99,
   "metadata": {},
   "outputs": [
    {
     "data": {
      "text/html": [
       "<div>\n",
       "<style scoped>\n",
       "    .dataframe tbody tr th:only-of-type {\n",
       "        vertical-align: middle;\n",
       "    }\n",
       "\n",
       "    .dataframe tbody tr th {\n",
       "        vertical-align: top;\n",
       "    }\n",
       "\n",
       "    .dataframe thead th {\n",
       "        text-align: right;\n",
       "    }\n",
       "</style>\n",
       "<table border=\"1\" class=\"dataframe\">\n",
       "  <thead>\n",
       "    <tr style=\"text-align: right;\">\n",
       "      <th></th>\n",
       "      <th>0</th>\n",
       "      <th>1</th>\n",
       "      <th>2</th>\n",
       "      <th>3</th>\n",
       "      <th>4</th>\n",
       "      <th>5</th>\n",
       "    </tr>\n",
       "  </thead>\n",
       "  <tbody>\n",
       "    <tr>\n",
       "      <th>0</th>\n",
       "      <td>bluetooth</td>\n",
       "      <td>lan 10/100/1000 mbps</td>\n",
       "      <td>None</td>\n",
       "      <td>None</td>\n",
       "      <td>None</td>\n",
       "      <td>None</td>\n",
       "    </tr>\n",
       "    <tr>\n",
       "      <th>1</th>\n",
       "      <td>wi-fi</td>\n",
       "      <td>bluetooth</td>\n",
       "      <td>lan 10/100 mbps</td>\n",
       "      <td>None</td>\n",
       "      <td>None</td>\n",
       "      <td>None</td>\n",
       "    </tr>\n",
       "    <tr>\n",
       "      <th>2</th>\n",
       "      <td>wi-fi</td>\n",
       "      <td>bluetooth</td>\n",
       "      <td>None</td>\n",
       "      <td>None</td>\n",
       "      <td>None</td>\n",
       "      <td>None</td>\n",
       "    </tr>\n",
       "    <tr>\n",
       "      <th>3</th>\n",
       "      <td>wi-fi</td>\n",
       "      <td>bluetooth</td>\n",
       "      <td>lan 10/100 mbps</td>\n",
       "      <td>None</td>\n",
       "      <td>None</td>\n",
       "      <td>None</td>\n",
       "    </tr>\n",
       "    <tr>\n",
       "      <th>4</th>\n",
       "      <td>wi-fi</td>\n",
       "      <td>bluetooth</td>\n",
       "      <td>lan 10/100/1000 mbps</td>\n",
       "      <td>None</td>\n",
       "      <td>None</td>\n",
       "      <td>None</td>\n",
       "    </tr>\n",
       "    <tr>\n",
       "      <th>...</th>\n",
       "      <td>...</td>\n",
       "      <td>...</td>\n",
       "      <td>...</td>\n",
       "      <td>...</td>\n",
       "      <td>...</td>\n",
       "      <td>...</td>\n",
       "    </tr>\n",
       "    <tr>\n",
       "      <th>6104</th>\n",
       "      <td>wi-fi</td>\n",
       "      <td>bluetooth</td>\n",
       "      <td>lan 10/100/1000 mbps</td>\n",
       "      <td>None</td>\n",
       "      <td>None</td>\n",
       "      <td>None</td>\n",
       "    </tr>\n",
       "    <tr>\n",
       "      <th>6105</th>\n",
       "      <td>bluetooth</td>\n",
       "      <td>lan 10/100 mbps</td>\n",
       "      <td>None</td>\n",
       "      <td>None</td>\n",
       "      <td>None</td>\n",
       "      <td>None</td>\n",
       "    </tr>\n",
       "    <tr>\n",
       "      <th>6106</th>\n",
       "      <td>wi-fi</td>\n",
       "      <td>bluetooth</td>\n",
       "      <td>lan 10/100/1000 mbps</td>\n",
       "      <td>None</td>\n",
       "      <td>None</td>\n",
       "      <td>None</td>\n",
       "    </tr>\n",
       "    <tr>\n",
       "      <th>6107</th>\n",
       "      <td>bluetooth</td>\n",
       "      <td>lan 10/100 mbps</td>\n",
       "      <td>None</td>\n",
       "      <td>None</td>\n",
       "      <td>None</td>\n",
       "      <td>None</td>\n",
       "    </tr>\n",
       "    <tr>\n",
       "      <th>6108</th>\n",
       "      <td>bluetooth</td>\n",
       "      <td>lan 10/100 mbps</td>\n",
       "      <td>None</td>\n",
       "      <td>None</td>\n",
       "      <td>None</td>\n",
       "      <td>None</td>\n",
       "    </tr>\n",
       "  </tbody>\n",
       "</table>\n",
       "<p>6109 rows × 6 columns</p>\n",
       "</div>"
      ],
      "text/plain": [
       "              0                     1                     2     3     4     5\n",
       "0     bluetooth  lan 10/100/1000 mbps                  None  None  None  None\n",
       "1         wi-fi             bluetooth       lan 10/100 mbps  None  None  None\n",
       "2         wi-fi             bluetooth                  None  None  None  None\n",
       "3         wi-fi             bluetooth       lan 10/100 mbps  None  None  None\n",
       "4         wi-fi             bluetooth  lan 10/100/1000 mbps  None  None  None\n",
       "...         ...                   ...                   ...   ...   ...   ...\n",
       "6104      wi-fi             bluetooth  lan 10/100/1000 mbps  None  None  None\n",
       "6105  bluetooth       lan 10/100 mbps                  None  None  None  None\n",
       "6106      wi-fi             bluetooth  lan 10/100/1000 mbps  None  None  None\n",
       "6107  bluetooth       lan 10/100 mbps                  None  None  None  None\n",
       "6108  bluetooth       lan 10/100 mbps                  None  None  None  None\n",
       "\n",
       "[6109 rows x 6 columns]"
      ]
     },
     "execution_count": 99,
     "metadata": {},
     "output_type": "execute_result"
    }
   ],
   "source": [
    "# use to_list( ) function to split lists into columns\n",
    "# example of to_list( ) function of pandas\n",
    "pd.DataFrame(df['communications'].to_list())"
   ]
  },
  {
   "cell_type": "code",
   "execution_count": 100,
   "metadata": {},
   "outputs": [],
   "source": [
    "compact_dict = {col: [] for  col in compact_cols}\n",
    "\n",
    "# apply get_unique_vals to all compact_cols\n",
    "# search through the dataframe and add a feature to unique_vals list when it is not included before\n",
    "for col in compact_cols:\n",
    "    compact_dict[col] = get_unique_values(col,df)"
   ]
  },
  {
   "cell_type": "code",
   "execution_count": 101,
   "metadata": {},
   "outputs": [
    {
     "data": {
      "text/plain": [
       "{'communications': [nan], 'input devices': [nan], 'multimedia': [nan]}"
      ]
     },
     "execution_count": 101,
     "metadata": {},
     "output_type": "execute_result"
    }
   ],
   "source": [
    "compact_dict"
   ]
  },
  {
   "cell_type": "code",
   "execution_count": 102,
   "metadata": {},
   "outputs": [],
   "source": [
    "df['resolution_x'] = df['resolution (px)'].apply(lambda x: x.split(' x ')[0]).astype(int)\n",
    "df['resolution_y'] = df['resolution (px)'].apply(lambda x: x.split(' x ')[1]).astype(int)\n",
    "\n",
    "df['RAM size'] = df['RAM size'].apply(lambda x: x.split(' gb')[0]).astype(int)"
   ]
  },
  {
   "cell_type": "code",
   "execution_count": 103,
   "metadata": {},
   "outputs": [
    {
     "data": {
      "text/plain": [
       "array([32,  8, 12,  4, 16,  2, 20,  6, 24])"
      ]
     },
     "execution_count": 103,
     "metadata": {},
     "output_type": "execute_result"
    }
   ],
   "source": [
    "df['RAM size'].unique()"
   ]
  },
  {
   "cell_type": "code",
   "execution_count": 104,
   "metadata": {},
   "outputs": [],
   "source": [
    "df = df.drop(columns=['resolution (px)'])"
   ]
  },
  {
   "cell_type": "code",
   "execution_count": 112,
   "metadata": {},
   "outputs": [],
   "source": [
    "df['screen-size_x'] = df['screen size'].str.extract(r'(\\d+\\.?\\d*)').astype(float)\n",
    "df['screen-size_y'] = df['screen size'].str.extract(r'-(\\s*\\d+\\.?\\d*)').astype(float)\n"
   ]
  },
  {
   "cell_type": "code",
   "execution_count": 113,
   "metadata": {},
   "outputs": [
    {
     "data": {
      "text/plain": [
       "7233    17.9\n",
       "5845    15.9\n",
       "5897    12.9\n",
       "4870    15.9\n",
       "2498    17.9\n",
       "        ... \n",
       "9211    15.9\n",
       "2748    17.9\n",
       "2072    17.9\n",
       "4741    15.9\n",
       "6980    15.9\n",
       "Name: screen-size_y, Length: 6109, dtype: float64"
      ]
     },
     "execution_count": 113,
     "metadata": {},
     "output_type": "execute_result"
    }
   ],
   "source": [
    "df['screen-size_y']"
   ]
  }
 ],
 "metadata": {
  "kernelspec": {
   "display_name": "base",
   "language": "python",
   "name": "python3"
  },
  "language_info": {
   "codemirror_mode": {
    "name": "ipython",
    "version": 3
   },
   "file_extension": ".py",
   "mimetype": "text/x-python",
   "name": "python",
   "nbconvert_exporter": "python",
   "pygments_lexer": "ipython3",
   "version": "3.11.5"
  }
 },
 "nbformat": 4,
 "nbformat_minor": 2
}
